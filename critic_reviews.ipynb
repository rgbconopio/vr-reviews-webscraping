{
 "cells": [
  {
   "cell_type": "code",
   "execution_count": 1,
   "metadata": {},
   "outputs": [],
   "source": [
    "import pandas as pd\n",
    "import numpy as np\n",
    "import requests\n",
    "import glob\n",
    "import os\n",
    "from bs4 import BeautifulSoup, NavigableString, Tag"
   ]
  },
  {
   "cell_type": "code",
   "execution_count": 2,
   "metadata": {},
   "outputs": [],
   "source": [
    "user_agent = {\"User-Agent\": \"Mozilla/5.0 (Windows NT 10.0; Win64; x64) AppleWebKit/537.36 (KHTML, like Gecko) Chrome/84.0.4147.105 Safari/537.36\"}"
   ]
  },
  {
   "cell_type": "markdown",
   "metadata": {},
   "source": [
    "**The Verge**:\n",
    "- https://www.theverge.com/2019/4/30/18523000/oculus-quest-review-vr-headset-price-specs-features\n",
    "- https://www.theverge.com/2019/6/28/19102584/valve-index-steamvr-headset-review-shipping-today\n",
    "- https://www.theverge.com/2019/10/10/20907998/vive-cosmos-vr-headset-review-price-specs-features-test\n",
    "\n",
    "**Tom's Guide**\n",
    "- https://www.tomsguide.com/us/oculus-quest,review-6431.html\n",
    "- https://www.tomshardware.com/reviews/valve-index-vr-headset-controllers,6205.html\n",
    "- https://www.tomsguide.com/us/playstation-vr,review-3941.html\n",
    "- https://www.tomshardware.com/reviews/htc-vive-cosmos-vr-headset,6367.html\n",
    "\n",
    "**Tech Radar**\n",
    "- https://www.techradar.com/reviews/oculus-quest-review\n",
    "- https://www.techradar.com/reviews/valve-index\n",
    "- https://www.techradar.com/reviews/gaming/playstation-vr-1235379/review\n",
    "- https://www.techradar.com/reviews/htc-vive-cosmos-and-cosmos-elite\n",
    "\n",
    "**engadget**\n",
    "- https://www.engadget.com/2019-04-30-oculus-quest-review-wireless-vr.html\n",
    "- https://www.engadget.com/2019-06-28-valve-index-review-vr.html\n",
    "- https://www.engadget.com/2016-10-05-sony-playstation-vr-review.html\n",
    "- https://www.engadget.com/2019-10-17-htc-vive-cosmos-review.html\n"
   ]
  },
  {
   "cell_type": "code",
   "execution_count": 3,
   "metadata": {},
   "outputs": [],
   "source": [
    "verge = ['https://www.theverge.com/2019/4/30/18523000/oculus-quest-review-vr-headset-price-specs-features',\n",
    "         'https://www.theverge.com/2019/6/28/19102584/valve-index-steamvr-headset-review-shipping-today',\n",
    "         'https://www.theverge.com/2019/10/10/20907998/vive-cosmos-vr-headset-review-price-specs-features-test']\n",
    "\n",
    "toms_guide = ['https://www.tomsguide.com/us/oculus-quest,review-6431.html',\n",
    "              'https://www.tomshardware.com/reviews/valve-index-vr-headset-controllers,6205.html',\n",
    "              'https://www.tomsguide.com/us/playstation-vr,review-3941.html',\n",
    "              'https://www.tomshardware.com/reviews/htc-vive-cosmos-vr-headset,6367.html']\n",
    "\n",
    "tech_radar = ['https://www.techradar.com/reviews/oculus-quest-review',\n",
    "              'https://www.techradar.com/reviews/valve-index',\n",
    "              'https://www.techradar.com/reviews/gaming/playstation-vr-1235379/review',\n",
    "              'https://www.techradar.com/reviews/htc-vive-cosmos-and-cosmos-elite']\n",
    "\n",
    "engadget = ['https://www.engadget.com/2019-04-30-oculus-quest-review-wireless-vr.html',\n",
    "            'https://www.engadget.com/2019-06-28-valve-index-review-vr.html',\n",
    "            'https://www.engadget.com/2016-10-05-sony-playstation-vr-review.html',\n",
    "            'https://www.engadget.com/2019-10-17-htc-vive-cosmos-review.html']"
   ]
  },
  {
   "cell_type": "code",
   "execution_count": 4,
   "metadata": {},
   "outputs": [],
   "source": [
    "critic = []\n",
    "review = []\n",
    "pro_con = []\n",
    "headset = []"
   ]
  },
  {
   "cell_type": "code",
   "execution_count": 5,
   "metadata": {},
   "outputs": [],
   "source": [
    "# The Verge\n",
    "for url in verge:\n",
    "    response = requests.get(url, headers=user_agent)\n",
    "    soup = BeautifulSoup(response.content, 'lxml')\n",
    "    \n",
    "    # get headset name\n",
    "    for name in soup.find_all('div', class_=\"c-scorecard__info\"):\n",
    "        y = name.find('a').text\n",
    "    \n",
    "    # get positve reviews\n",
    "    for i in soup.find_all('div', class_='c-scorecard__additional-info__col')[0]:\n",
    "        if isinstance(i, NavigableString):\n",
    "            continue\n",
    "        if isinstance(i, Tag):\n",
    "            for x in i.find_all('li'):\n",
    "                critic.append('The Verge')\n",
    "                review.append(x.text)\n",
    "                pro_con.append('Positive')\n",
    "                headset.append(y)\n",
    "    # get negative reviews\n",
    "    for i in soup.find_all('div', class_='c-scorecard__additional-info__col')[1]:\n",
    "        if isinstance(i, NavigableString):\n",
    "            continue\n",
    "        if isinstance(i, Tag):\n",
    "            for x in i.find_all('li'):\n",
    "                critic.append('The Verge')\n",
    "                review.append(x.text)\n",
    "                pro_con.append('Negative')\n",
    "                headset.append(y)"
   ]
  },
  {
   "cell_type": "code",
   "execution_count": 6,
   "metadata": {},
   "outputs": [],
   "source": [
    "# Tom's Guide\n",
    "for url in toms_guide:\n",
    "    response = requests.get(url, headers=user_agent)\n",
    "    soup = BeautifulSoup(response.content, 'lxml')\n",
    "\n",
    "    name = soup.find('h1', class_='review-title-long').text.partition('Review')[0]\n",
    "    \n",
    "    for i in soup.find_all('div', class_='sub-box')[1]:\n",
    "        if isinstance(i, NavigableString):\n",
    "            continue\n",
    "        if isinstance(i, Tag):\n",
    "            for x in i.find_all('li'):\n",
    "                headset.append(name)\n",
    "                review.append(x.text)\n",
    "                pro_con.append('Positive')\n",
    "                critic.append(\"Tom's Guide\")\n",
    "    for i in soup.find_all('div', class_='sub-box')[2]:\n",
    "        if isinstance(i, NavigableString):\n",
    "            continue\n",
    "        if isinstance(i, Tag):\n",
    "            for x in i.find_all('li'):\n",
    "                headset.append(name)\n",
    "                review.append(x.text)\n",
    "                pro_con.append('Negative')\n",
    "                critic.append(\"Tom's Guide\")"
   ]
  },
  {
   "cell_type": "code",
   "execution_count": 7,
   "metadata": {},
   "outputs": [],
   "source": [
    "# techradar\n",
    "for url in tech_radar:\n",
    "    response = requests.get(url, headers=user_agent)\n",
    "    soup = BeautifulSoup(response.content, 'lxml')\n",
    "\n",
    "    try:\n",
    "        name = soup.find('h1', class_='review-title-medium').text.partition(' review')[0]\n",
    "    except:\n",
    "        name = soup.find('h1', class_='review-title-long').text.partition(' review')[0]\n",
    "    \n",
    "    \n",
    "    for i in soup.find_all('div', class_='sub-box')[1]:\n",
    "        if isinstance(i, NavigableString):\n",
    "            continue\n",
    "        if isinstance(i, Tag):\n",
    "            for x in i.find_all('li'):\n",
    "                headset.append(name)\n",
    "                review.append(x.text)\n",
    "                pro_con.append('Positive')\n",
    "                critic.append(\"TechRadar\")\n",
    "                \n",
    "    for i in soup.find_all('div', class_='sub-box')[2]:\n",
    "        if isinstance(i, NavigableString):\n",
    "            continue\n",
    "        if isinstance(i, Tag):\n",
    "            for x in i.find_all('li'):\n",
    "                headset.append(name)\n",
    "                review.append(x.text)\n",
    "                pro_con.append('Negative')\n",
    "                critic.append(\"TechRadar\")"
   ]
  },
  {
   "cell_type": "code",
   "execution_count": 8,
   "metadata": {},
   "outputs": [],
   "source": [
    "# engadget\n",
    "\n",
    "for url in engadget:\n",
    "    response = requests.get(url, headers=user_agent)\n",
    "    soup = BeautifulSoup(response.content, 'lxml')\n",
    "    \n",
    "    try:\n",
    "        name = soup.find('h1', class_=\"t-h4@m- t-h1-b@tp t-h1@tl+ mt-20 mt-15@tp mt-0@m-\").text.partition(' review')[0]\n",
    "    except:\n",
    "        name = soup.find('h1', class_=\"t-h4@s t-h3@m t-h1@tp t-alpha-h1@tl+ mt-40@tp- mt-75@tl+ c-gray-1 ml-a mr-a col-11-of-15\").text.partition(' review')[0]\n",
    "        \n",
    "    for i in soup.find_all('div', class_=\"grid__cell col-1-of-2@m+\"):\n",
    "        for x in i.find_all('li', class_='bulleted bulleted--large'):\n",
    "            headset.append(name)\n",
    "            review.append(x.text.strip())\n",
    "            pro_con.append('Positive')\n",
    "            critic.append(\"engadget\")\n",
    "\n",
    "    for i in soup.find_all('div', class_=\"grid__cell col-1-of-2@m+ grid-divider@m+ mt-20@m-\"):\n",
    "        for x in i.find_all('li', class_='bulleted bulleted--large'):\n",
    "            headset.append(name)\n",
    "            review.append(x.text.strip())\n",
    "            pro_con.append('Negative')\n",
    "            critic.append(\"engadget\")"
   ]
  },
  {
   "cell_type": "code",
   "execution_count": 9,
   "metadata": {},
   "outputs": [],
   "source": [
    "column_dict = {'critic':critic, 'headset':headset, '+/-':pro_con, 'review':review}"
   ]
  },
  {
   "cell_type": "code",
   "execution_count": 17,
   "metadata": {},
   "outputs": [],
   "source": [
    "df = pd.DataFrame(column_dict)"
   ]
  },
  {
   "cell_type": "code",
   "execution_count": 18,
   "metadata": {},
   "outputs": [],
   "source": [
    "df.review = df.review.str.strip()"
   ]
  },
  {
   "cell_type": "code",
   "execution_count": 24,
   "metadata": {},
   "outputs": [],
   "source": [
    "df.headset = df.headset.str.strip()"
   ]
  },
  {
   "cell_type": "code",
   "execution_count": 34,
   "metadata": {},
   "outputs": [],
   "source": [
    "df.headset[df.headset == 'HTC Vive Cosmos and Cosmos Elite'] = 'HTC Vive Cosmos'"
   ]
  },
  {
   "cell_type": "code",
   "execution_count": 37,
   "metadata": {},
   "outputs": [],
   "source": [
    "df.to_csv('critic_reviews.csv', index=False)"
   ]
  }
 ],
 "metadata": {
  "kernelspec": {
   "display_name": "Python 3",
   "language": "python",
   "name": "python3"
  },
  "language_info": {
   "codemirror_mode": {
    "name": "ipython",
    "version": 3
   },
   "file_extension": ".py",
   "mimetype": "text/x-python",
   "name": "python",
   "nbconvert_exporter": "python",
   "pygments_lexer": "ipython3",
   "version": "3.7.6"
  }
 },
 "nbformat": 4,
 "nbformat_minor": 4
}

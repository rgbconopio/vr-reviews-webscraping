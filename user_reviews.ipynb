{
 "cells": [
  {
   "cell_type": "code",
   "execution_count": 1,
   "metadata": {},
   "outputs": [],
   "source": [
    "import pandas as pd\n",
    "import numpy as np\n",
    "import requests\n",
    "from bs4 import BeautifulSoup, NavigableString, Tag"
   ]
  },
  {
   "cell_type": "code",
   "execution_count": 2,
   "metadata": {},
   "outputs": [],
   "source": [
    "user_agent = {\"User-Agent\": \"Mozilla/5.0 (Windows NT 10.0; Win64; x64) AppleWebKit/537.36 (KHTML, like Gecko) Chrome/84.0.4147.105 Safari/537.36\"}"
   ]
  },
  {
   "cell_type": "markdown",
   "metadata": {},
   "source": [
    "## Amazon"
   ]
  },
  {
   "cell_type": "code",
   "execution_count": 3,
   "metadata": {},
   "outputs": [],
   "source": [
    "amazon_review_dict = {'rating':[], 'review':[]}\n",
    "\n",
    "for num in range(1,160):\n",
    "    url = 'https://www.amazon.com/Oculus-Quest-All-Gaming-System-PC/product-reviews/B07HNW68ZC/ref=cm_cr_arp_d_viewopt_srt?ie=UTF8&reviewerType=all_reviews&sortBy=recent&pageNumber={}'.format(num)\n",
    "    response = requests.get(url, headers=user_agent)\n",
    "    soup = BeautifulSoup(response.content, 'lxml')\n",
    "    for reviews in soup.find_all('div', {'data-hook':'review'}):\n",
    "        amazon_review_dict['rating'].append(reviews.find('i', attrs={\"data-hook\": \"review-star-rating\"}).text)\n",
    "        amazon_review_dict['review'].append(reviews.find('span',{'data-hook':'review-body'}).text)"
   ]
  },
  {
   "cell_type": "code",
   "execution_count": 4,
   "metadata": {},
   "outputs": [],
   "source": [
    "amazon_df = pd.DataFrame(amazon_review_dict)"
   ]
  },
  {
   "cell_type": "code",
   "execution_count": 5,
   "metadata": {},
   "outputs": [],
   "source": [
    "amazon_df['vendor'] = 'Amazon'"
   ]
  },
  {
   "cell_type": "markdown",
   "metadata": {},
   "source": [
    "## BestBuy"
   ]
  },
  {
   "cell_type": "code",
   "execution_count": 6,
   "metadata": {},
   "outputs": [],
   "source": [
    "bb_review_dict = {'rating':[], 'review':[]}\n",
    "for num in range(1,100):\n",
    "    url = 'https://www.bestbuy.com/site/reviews/oculus-quest-all-in-one-vr-gaming-headset-64gb-black/6342914?variant=A&page={}'.format(num)\n",
    "    response = requests.get(url, headers=user_agent)\n",
    "    soup = BeautifulSoup(response.content, 'lxml')\n",
    "    for reviews in soup.find_all('div', class_='c-ratings-reviews-v2 v-small'):\n",
    "        bb_review_dict['rating'].append(reviews.find('p', class_='sr-only').text)\n",
    "    for reviews in soup.find_all('div', class_='ugc-review-body body-copy-lg'):\n",
    "        bb_review_dict['review'].append(reviews.find('p', class_='pre-white-space').text)"
   ]
  },
  {
   "cell_type": "code",
   "execution_count": 7,
   "metadata": {},
   "outputs": [],
   "source": [
    "bestbuy_df = pd.DataFrame(bb_review_dict)"
   ]
  },
  {
   "cell_type": "code",
   "execution_count": 8,
   "metadata": {},
   "outputs": [],
   "source": [
    "bestbuy_df['vendor'] = 'BestBuy'"
   ]
  },
  {
   "cell_type": "markdown",
   "metadata": {},
   "source": [
    "## WalMart"
   ]
  },
  {
   "cell_type": "code",
   "execution_count": 9,
   "metadata": {},
   "outputs": [],
   "source": [
    "rating = []\n",
    "review = []\n",
    "for num in range(1,17):\n",
    "    url = 'https://www.walmart.com/reviews/product/472031416?sort=submission-desc&page={}'.format(num)\n",
    "    response = requests.get(url, headers=user_agent)\n",
    "    soup = BeautifulSoup(response.content, 'lxml')\n",
    "    for reviews in soup.find_all('span', class_='average-rating'):\n",
    "        rating.append(reviews.find('span', class_='visuallyhidden seo-avg-rating').text)\n",
    "    for reviews in soup.find_all('div', class_='review-text'):\n",
    "        review.append(reviews.find('p').text)"
   ]
  },
  {
   "cell_type": "code",
   "execution_count": 17,
   "metadata": {},
   "outputs": [],
   "source": [
    "del(rating[195:])"
   ]
  },
  {
   "cell_type": "code",
   "execution_count": 19,
   "metadata": {},
   "outputs": [],
   "source": [
    "wm = {'rating':rating, 'review':review}"
   ]
  },
  {
   "cell_type": "code",
   "execution_count": 20,
   "metadata": {},
   "outputs": [],
   "source": [
    "wm_df = pd.DataFrame(wm)"
   ]
  },
  {
   "cell_type": "code",
   "execution_count": 21,
   "metadata": {},
   "outputs": [],
   "source": [
    "wm_df['vendor'] = 'Walmart'"
   ]
  },
  {
   "cell_type": "markdown",
   "metadata": {},
   "source": [
    "### Data Wrangling"
   ]
  },
  {
   "cell_type": "code",
   "execution_count": 22,
   "metadata": {},
   "outputs": [],
   "source": [
    "amazon_df['rating'] = [x[0] for x in amazon_df.rating]"
   ]
  },
  {
   "cell_type": "code",
   "execution_count": 23,
   "metadata": {},
   "outputs": [],
   "source": [
    "bestbuy_df['rating'] = [x.split()[1] for x in bestbuy_df['rating']]"
   ]
  },
  {
   "cell_type": "code",
   "execution_count": 24,
   "metadata": {},
   "outputs": [],
   "source": [
    "wm_df['rating'] = [x[0] for x in wm_df.rating]"
   ]
  },
  {
   "cell_type": "code",
   "execution_count": 25,
   "metadata": {},
   "outputs": [],
   "source": [
    "amazon_df['review'] = [x.strip() for x in amazon_df['review']]"
   ]
  },
  {
   "cell_type": "code",
   "execution_count": 26,
   "metadata": {},
   "outputs": [],
   "source": [
    "bestbuy_df['review'] = [x.strip() for x in bestbuy_df['review']]"
   ]
  },
  {
   "cell_type": "code",
   "execution_count": 27,
   "metadata": {},
   "outputs": [],
   "source": [
    "wm_df['review'] = [x.strip() for x in wm_df['review']]"
   ]
  },
  {
   "cell_type": "code",
   "execution_count": 28,
   "metadata": {},
   "outputs": [],
   "source": [
    "ocquest_reviews = pd.concat([amazon_df, bestbuy_df, wm_df]).reset_index(drop=True)"
   ]
  },
  {
   "cell_type": "markdown",
   "metadata": {},
   "source": [
    "- https://github.com/amueller/word_cloud\n",
    "- https://www.datacamp.com/community/tutorials/wordcloud-python\n",
    "- https://towardsdatascience.com/web-scraping-metacritic-reviews-using-beautifulsoup-63801bbe200e"
   ]
  },
  {
   "cell_type": "code",
   "execution_count": 29,
   "metadata": {},
   "outputs": [
    {
     "data": {
      "text/html": [
       "<div>\n",
       "<style scoped>\n",
       "    .dataframe tbody tr th:only-of-type {\n",
       "        vertical-align: middle;\n",
       "    }\n",
       "\n",
       "    .dataframe tbody tr th {\n",
       "        vertical-align: top;\n",
       "    }\n",
       "\n",
       "    .dataframe thead th {\n",
       "        text-align: right;\n",
       "    }\n",
       "</style>\n",
       "<table border=\"1\" class=\"dataframe\">\n",
       "  <thead>\n",
       "    <tr style=\"text-align: right;\">\n",
       "      <th></th>\n",
       "      <th>rating</th>\n",
       "      <th>review</th>\n",
       "      <th>vendor</th>\n",
       "    </tr>\n",
       "  </thead>\n",
       "  <tbody>\n",
       "    <tr>\n",
       "      <th>0</th>\n",
       "      <td>5</td>\n",
       "      <td>The product is suitable for description, excel...</td>\n",
       "      <td>Amazon</td>\n",
       "    </tr>\n",
       "    <tr>\n",
       "      <th>1</th>\n",
       "      <td>5</td>\n",
       "      <td>Like the games different types for different p...</td>\n",
       "      <td>Amazon</td>\n",
       "    </tr>\n",
       "    <tr>\n",
       "      <th>2</th>\n",
       "      <td>4</td>\n",
       "      <td>This is a great headset. Running tethered to a...</td>\n",
       "      <td>Amazon</td>\n",
       "    </tr>\n",
       "    <tr>\n",
       "      <th>3</th>\n",
       "      <td>3</td>\n",
       "      <td>Pros:Game play, when the game (HL Alyx) actual...</td>\n",
       "      <td>Amazon</td>\n",
       "    </tr>\n",
       "    <tr>\n",
       "      <th>4</th>\n",
       "      <td>5</td>\n",
       "      <td>Came 2 weeks early! And works so smooth!Cant t...</td>\n",
       "      <td>Amazon</td>\n",
       "    </tr>\n",
       "    <tr>\n",
       "      <th>...</th>\n",
       "      <td>...</td>\n",
       "      <td>...</td>\n",
       "      <td>...</td>\n",
       "    </tr>\n",
       "    <tr>\n",
       "      <th>3760</th>\n",
       "      <td>5</td>\n",
       "      <td>The hype is real! This is THE console to have ...</td>\n",
       "      <td>Walmart</td>\n",
       "    </tr>\n",
       "    <tr>\n",
       "      <th>3761</th>\n",
       "      <td>5</td>\n",
       "      <td>Awesome when it works.  After setting it up an...</td>\n",
       "      <td>Walmart</td>\n",
       "    </tr>\n",
       "    <tr>\n",
       "      <th>3762</th>\n",
       "      <td>5</td>\n",
       "      <td>This is, hands down, the best virtual reality ...</td>\n",
       "      <td>Walmart</td>\n",
       "    </tr>\n",
       "    <tr>\n",
       "      <th>3763</th>\n",
       "      <td>5</td>\n",
       "      <td>Its a great device if you have never tried VR ...</td>\n",
       "      <td>Walmart</td>\n",
       "    </tr>\n",
       "    <tr>\n",
       "      <th>3764</th>\n",
       "      <td>5</td>\n",
       "      <td>This stuff is gold! I have adult acne and fine...</td>\n",
       "      <td>Walmart</td>\n",
       "    </tr>\n",
       "  </tbody>\n",
       "</table>\n",
       "<p>3765 rows × 3 columns</p>\n",
       "</div>"
      ],
      "text/plain": [
       "     rating                                             review   vendor\n",
       "0         5  The product is suitable for description, excel...   Amazon\n",
       "1         5  Like the games different types for different p...   Amazon\n",
       "2         4  This is a great headset. Running tethered to a...   Amazon\n",
       "3         3  Pros:Game play, when the game (HL Alyx) actual...   Amazon\n",
       "4         5  Came 2 weeks early! And works so smooth!Cant t...   Amazon\n",
       "...     ...                                                ...      ...\n",
       "3760      5  The hype is real! This is THE console to have ...  Walmart\n",
       "3761      5  Awesome when it works.  After setting it up an...  Walmart\n",
       "3762      5  This is, hands down, the best virtual reality ...  Walmart\n",
       "3763      5  Its a great device if you have never tried VR ...  Walmart\n",
       "3764      5  This stuff is gold! I have adult acne and fine...  Walmart\n",
       "\n",
       "[3765 rows x 3 columns]"
      ]
     },
     "execution_count": 29,
     "metadata": {},
     "output_type": "execute_result"
    }
   ],
   "source": [
    "ocquest_reviews"
   ]
  },
  {
   "cell_type": "code",
   "execution_count": 38,
   "metadata": {},
   "outputs": [],
   "source": [
    "ocquest_reviews.rating = ocquest_reviews.rating.astype('int')"
   ]
  },
  {
   "cell_type": "code",
   "execution_count": 41,
   "metadata": {},
   "outputs": [
    {
     "data": {
      "text/plain": [
       "5    3043\n",
       "4     425\n",
       "1     118\n",
       "3     101\n",
       "2      78\n",
       "Name: rating, dtype: int64"
      ]
     },
     "execution_count": 41,
     "metadata": {},
     "output_type": "execute_result"
    }
   ],
   "source": [
    "ocquest_reviews.rating.value_counts()"
   ]
  },
  {
   "cell_type": "code",
   "execution_count": 42,
   "metadata": {},
   "outputs": [],
   "source": [
    "ocquest_reviews.to_csv('quest_reviews.csv', index=False)"
   ]
  },
  {
   "cell_type": "code",
   "execution_count": null,
   "metadata": {},
   "outputs": [],
   "source": []
  }
 ],
 "metadata": {
  "kernelspec": {
   "display_name": "Python 3",
   "language": "python",
   "name": "python3"
  },
  "language_info": {
   "codemirror_mode": {
    "name": "ipython",
    "version": 3
   },
   "file_extension": ".py",
   "mimetype": "text/x-python",
   "name": "python",
   "nbconvert_exporter": "python",
   "pygments_lexer": "ipython3",
   "version": "3.7.6"
  }
 },
 "nbformat": 4,
 "nbformat_minor": 4
}
